{
  "cells": [
    {
      "cell_type": "markdown",
      "metadata": {
        "id": "exkir0Ixv-N1"
      },
      "source": [
        "# Импорт"
      ]
    },
    {
      "cell_type": "code",
      "execution_count": null,
      "metadata": {
        "id": "F0XySMG4vNVa"
      },
      "outputs": [],
      "source": [
        "import numpy as np\n",
        "from torch.utils.data import TensorDataset\n",
        "from torch.utils.data import Dataset\n",
        "from torch.utils.data import DataLoader\n",
        "import torch\n",
        "import torchvision.models as models\n",
        "import torch.nn as nn\n",
        "import torch.nn.functional as F\n",
        "import torchvision.transforms\n",
        "import torchvision.transforms.functional as TF\n",
        "import matplotlib.pyplot as plt\n",
        "import random\n",
        "import seaborn as sb\n",
        "from collections import defaultdict\n",
        "from IPython.display import clear_output\n",
        "from sklearn.metrics import accuracy_score, f1_score\n",
        "from tqdm.notebook import tqdm\n",
        "from copy import deepcopy\n",
        "from torchsummary import summary"
      ]
    },
    {
      "cell_type": "code",
      "source": [
        "# fix random_seed\n",
        "torch.manual_seed(42)\n",
        "random.seed(42)\n",
        "np.random.seed(42)"
      ],
      "metadata": {
        "id": "7BThw_l0J9WQ"
      },
      "execution_count": null,
      "outputs": []
    },
    {
      "cell_type": "code",
      "execution_count": null,
      "metadata": {
        "colab": {
          "base_uri": "https://localhost:8080/"
        },
        "id": "29DWPeomvRKL",
        "outputId": "0ee97734-eb02-4098-f6a6-51c9d1b4506a"
      },
      "outputs": [
        {
          "output_type": "stream",
          "name": "stdout",
          "text": [
            "Using device: cuda\n"
          ]
        }
      ],
      "source": [
        "device = torch.device('cuda' if torch.cuda.is_available() else 'cpu')\n",
        "print('Using device:', device)"
      ]
    },
    {
      "cell_type": "code",
      "execution_count": null,
      "metadata": {
        "colab": {
          "base_uri": "https://localhost:8080/"
        },
        "id": "5SdCK6Fm5q5z",
        "outputId": "53dd7917-2501-42f6-b802-27191e5d8b62"
      },
      "outputs": [
        {
          "output_type": "stream",
          "name": "stdout",
          "text": [
            "<module 'torch.version' from '/usr/local/lib/python3.10/dist-packages/torch/version.py'>\n",
            "True\n",
            "1\n",
            "0\n",
            "<torch.cuda.device object at 0x7f4b45d67370>\n",
            "Tesla T4\n"
          ]
        }
      ],
      "source": [
        "print(torch.version)\n",
        "print(torch.cuda.is_available())\n",
        "print(torch.cuda.device_count())\n",
        "print(torch.cuda.current_device())\n",
        "print(torch.cuda.device(0))\n",
        "print(torch.cuda.get_device_name(0))"
      ]
    },
    {
      "cell_type": "code",
      "execution_count": null,
      "metadata": {
        "colab": {
          "base_uri": "https://localhost:8080/"
        },
        "id": "SgFSMKCX53J1",
        "outputId": "cc4c638c-023a-4584-d185-2db214adc0e3"
      },
      "outputs": [
        {
          "output_type": "stream",
          "name": "stdout",
          "text": [
            "Mon Jun 12 18:12:19 2023       \n",
            "+-----------------------------------------------------------------------------+\n",
            "| NVIDIA-SMI 525.85.12    Driver Version: 525.85.12    CUDA Version: 12.0     |\n",
            "|-------------------------------+----------------------+----------------------+\n",
            "| GPU  Name        Persistence-M| Bus-Id        Disp.A | Volatile Uncorr. ECC |\n",
            "| Fan  Temp  Perf  Pwr:Usage/Cap|         Memory-Usage | GPU-Util  Compute M. |\n",
            "|                               |                      |               MIG M. |\n",
            "|===============================+======================+======================|\n",
            "|   0  Tesla V100-SXM2...  Off  | 00000000:00:04.0 Off |                    0 |\n",
            "| N/A   36C    P0    23W / 300W |      2MiB / 16384MiB |      0%      Default |\n",
            "|                               |                      |                  N/A |\n",
            "+-------------------------------+----------------------+----------------------+\n",
            "                                                                               \n",
            "+-----------------------------------------------------------------------------+\n",
            "| Processes:                                                                  |\n",
            "|  GPU   GI   CI        PID   Type   Process name                  GPU Memory |\n",
            "|        ID   ID                                                   Usage      |\n",
            "|=============================================================================|\n",
            "|  No running processes found                                                 |\n",
            "+-----------------------------------------------------------------------------+\n"
          ]
        }
      ],
      "source": [
        "!nvidia-smi"
      ]
    },
    {
      "cell_type": "code",
      "execution_count": null,
      "metadata": {
        "colab": {
          "base_uri": "https://localhost:8080/"
        },
        "id": "Aj45QUGnvS-1",
        "outputId": "d61f109a-4a19-4e70-83a5-b16f0263517e"
      },
      "outputs": [
        {
          "output_type": "stream",
          "name": "stdout",
          "text": [
            "Mounted at /content/drive\n"
          ]
        }
      ],
      "source": [
        "from google.colab import drive\n",
        "drive.mount('/content/drive')"
      ]
    },
    {
      "cell_type": "code",
      "execution_count": null,
      "metadata": {
        "colab": {
          "base_uri": "https://localhost:8080/"
        },
        "id": "-mGpgLqXvWSU",
        "outputId": "44179ccd-48ca-4afc-a6af-3307ceabf6f9"
      },
      "outputs": [
        {
          "output_type": "stream",
          "name": "stdout",
          "text": [
            "X shape (27, 136, 314, 316)\n",
            " Y shape (27, 2, 27, 27)\n"
          ]
        }
      ],
      "source": [
        "x_data_np = np.load('drive/MyDrive/Чирич/all_movies.npy')\n",
        "y_data_np = np.load('drive/MyDrive/Чирич/all_piv.npy')\n",
        "x_data_np = np.float32(x_data_np)\n",
        "y_data_np = np.float32(y_data_np)\n",
        "print(f'X shape {x_data_np.shape}\\n Y shape {y_data_np.shape}')"
      ]
    },
    {
      "cell_type": "markdown",
      "metadata": {
        "id": "GxxMlzCnwH6n"
      },
      "source": [
        "# DataLoader"
      ]
    },
    {
      "cell_type": "code",
      "execution_count": null,
      "metadata": {
        "colab": {
          "base_uri": "https://localhost:8080/"
        },
        "id": "RHGoExNUvjb-",
        "outputId": "35c60377-b331-4522-bdab-498e9097e9f5"
      },
      "outputs": [
        {
          "output_type": "stream",
          "name": "stdout",
          "text": [
            "tensor([ 6, 22,  3, 25, 20, 26,  2, 11, 13,  4, 19, 17,  7, 12, 23, 10,  9,  1,\n",
            "        21, 18, 15])\n",
            "tensor([14,  0,  5, 16, 24,  8])\n",
            "torch.Size([21, 136, 314, 316])\n",
            "torch.Size([6, 136, 314, 316])\n",
            "torch.Size([21, 2, 27, 27])\n",
            "torch.Size([6, 2, 27, 27])\n"
          ]
        }
      ],
      "source": [
        "x_data = torch.from_numpy(x_data_np)\n",
        "y_data = torch.from_numpy(y_data_np)\n",
        "\n",
        "idx = torch.randperm(x_data.shape[0])\n",
        "idx_train = idx[:21]\n",
        "idx_test = idx[-6:]\n",
        "print(idx_train)\n",
        "print(idx_test)\n",
        "\n",
        "x_train = x_data[idx_train]\n",
        "x_test = x_data[idx_test]\n",
        "\n",
        "y_train = y_data[idx_train]\n",
        "y_test = y_data[idx_test]\n",
        "\n",
        "print(x_train.shape)\n",
        "print(x_test.shape)\n",
        "print(y_train.shape)\n",
        "print(y_test.shape)"
      ]
    },
    {
      "cell_type": "code",
      "execution_count": null,
      "metadata": {
        "colab": {
          "base_uri": "https://localhost:8080/"
        },
        "id": "X_VBaiZS7gkq",
        "outputId": "2ceb401d-e03f-491e-8d5c-7c19d6a614b6"
      },
      "outputs": [
        {
          "output_type": "stream",
          "name": "stdout",
          "text": [
            "tensor(0.2744) tensor(0.2150)\n"
          ]
        }
      ],
      "source": [
        "mean = x_train.mean()\n",
        "std = x_train.std()\n",
        "print(mean, std)\n",
        "mean = mean * 136\n",
        "std = std * 136"
      ]
    },
    {
      "cell_type": "code",
      "source": [
        "class CustomTensorDatasetTrain(Dataset):\n",
        "    \"\"\"TensorDataset with support of transforms.\n",
        "    \"\"\"\n",
        "    def __init__(self, mov, img):\n",
        "        self.mov = mov\n",
        "        self.img = img\n",
        "        self.norm = torchvision.transforms.Normalize(mean, std)\n",
        "\n",
        "        #self.PIL = torchvision.transforms.ToPILImage()\n",
        "\n",
        "    def __getitem__(self, index):\n",
        "        #self.mov[index] = self.mov[index][:, :80]\n",
        "        #self.mov[index] = self.mov[index][:, None, :, :, :]\n",
        "        if random.random() > 0.5:\n",
        "            self.mov[index] = TF.hflip(self.mov[index])\n",
        "            self.img[index] = TF.hflip(self.img[index])\n",
        "\n",
        "        if random.random() > 0.5:\n",
        "            self.mov[index] = TF.vflip(self.mov[index])\n",
        "            self.img[index] = TF.vflip(self.img[index])\n",
        "\n",
        "        self.mov[index] = self.norm(self.mov[index])\n",
        "\n",
        "        return self.mov[index], self.img[index]\n",
        "\n",
        "    def __len__(self):\n",
        "        return self.mov.shape[0]\n",
        "\n",
        "\n",
        "class CustomTensorDatasetTest(Dataset):\n",
        "    \"\"\"TensorDataset with support of transforms.\n",
        "    \"\"\"\n",
        "    def __init__(self, mov, img):\n",
        "        self.mov = mov\n",
        "        self.img = img\n",
        "        self.norm = torchvision.transforms.Normalize(mean, std)\n",
        "\n",
        "        #self.PIL = torchvision.transforms.ToPILImage()\n",
        "\n",
        "    def __getitem__(self, index):\n",
        "        #self.mov[index] = self.mov[index][:, :80]\n",
        "        #self.mov[index] = self.mov[index][:, None, :, :, :]\n",
        "        self.mov[index] = self.norm(self.mov[index])\n",
        "\n",
        "        return self.mov[index], self.img[index]\n",
        "\n",
        "    def __len__(self):\n",
        "        return self.mov.shape[0]"
      ],
      "metadata": {
        "id": "u4yCsegyC19G"
      },
      "execution_count": null,
      "outputs": []
    },
    {
      "cell_type": "markdown",
      "metadata": {
        "id": "7_Zyb7GgxEQe"
      },
      "source": [
        "# ResNet18"
      ]
    },
    {
      "cell_type": "code",
      "source": [
        "batch_size = 8\n",
        "train_data = CustomTensorDatasetTrain(x_train, y_train)\n",
        "train_loader = DataLoader(train_data, batch_size=batch_size, shuffle=True)\n",
        "\n",
        "batch_size_test = 6\n",
        "test_data = CustomTensorDatasetTest(x_test, y_test)\n",
        "test_loader = DataLoader(test_data, batch_size=batch_size_test, shuffle=False)"
      ],
      "metadata": {
        "id": "MlUrUb1CGEtW"
      },
      "execution_count": null,
      "outputs": []
    },
    {
      "cell_type": "code",
      "execution_count": null,
      "metadata": {
        "id": "eJK5xRaFyiTQ"
      },
      "outputs": [],
      "source": [
        "class PrintLayer(nn.Module):\n",
        "    def __init__(self):\n",
        "        super(PrintLayer, self).__init__()\n",
        "\n",
        "    def forward(self, x):\n",
        "        print(x.shape)\n",
        "        return x\n",
        "\n",
        "class ConvNet(nn.Module):\n",
        "    def __init__(self):\n",
        "        super(ConvNet, self).__init__()\n",
        "\n",
        "        # (1, 512, 1, 1).  поменять\n",
        "        resnet = models.resnet18(pretrained=False)\n",
        "        resnet.conv1 = nn.Conv2d(136, 64, kernel_size=(7, 7), stride=(2, 2), padding=(3, 3), bias=False)\n",
        "        enc = list(resnet.children())[:-1]\n",
        "\n",
        "        self.encoder = nn.Sequential(*(list(enc)))\n",
        "\n",
        "        self.decoder = nn.Sequential(\n",
        "                #PrintLayer(),\n",
        "\n",
        "                nn.ConvTranspose2d(512, 256, 3, stride=2, padding=1),\n",
        "                nn.Upsample(scale_factor=2, mode='bilinear'),\n",
        "                nn.ReLU(),\n",
        "                #PrintLayer(),\n",
        "\n",
        "                nn.ConvTranspose2d(256, 128, 3, stride=2, padding=1),\n",
        "                nn.Upsample(scale_factor=2, mode='bilinear'),\n",
        "                nn.BatchNorm2d(128),\n",
        "                nn.ReLU(),\n",
        "                #PrintLayer(),\n",
        "\n",
        "                nn.ConvTranspose2d(128, 64, 3, stride=2, padding=1),\n",
        "                nn.Upsample(scale_factor=2, mode='bilinear'),\n",
        "                nn.ReLU(),\n",
        "                #PrintLayer(),\n",
        "\n",
        "                nn.ConvTranspose2d(64, 32, 3, stride=2, padding=1),\n",
        "                nn.Upsample(scale_factor=2, mode='bilinear'),\n",
        "                nn.BatchNorm2d(32),\n",
        "                nn.ReLU(),\n",
        "                #PrintLayer(),\n",
        "\n",
        "                nn.ConvTranspose2d(32, 16, 3, stride=2, padding=3),\n",
        "                nn.Upsample(size=(27, 27), mode='bilinear'),\n",
        "                nn.ReLU(),\n",
        "                #PrintLayer(),\n",
        "\n",
        "                nn.Conv2d(in_channels=16, out_channels=8, kernel_size=3, stride=1, padding=1),\n",
        "                nn.BatchNorm2d(8),\n",
        "                nn.ReLU(),\n",
        "                #PrintLayer(),\n",
        "\n",
        "                nn.Conv2d(in_channels=8, out_channels=4, kernel_size=3, stride=1, padding=1),\n",
        "                nn.ReLU(),\n",
        "                #PrintLayer(),\n",
        "\n",
        "                nn.Conv2d(in_channels=4, out_channels=2, kernel_size=3, stride=1, padding=1)\n",
        "        )\n",
        "        #self.dropout1 = nn.Dropout(p=0.5)\n",
        "\n",
        "\n",
        "\n",
        "\n",
        "    def forward(self, x):\n",
        "\n",
        "        encoded = self.encoder(x)\n",
        "        decoded = self.decoder(encoded)\n",
        "\n",
        "        return decoded"
      ]
    },
    {
      "cell_type": "markdown",
      "metadata": {
        "id": "_JVC4ohw05hk"
      },
      "source": [
        "# Обучение"
      ]
    },
    {
      "cell_type": "code",
      "source": [
        "class ProgressPlotter:\n",
        "\n",
        "    def __init__(self, title=\"default\", groups=None) -> None:\n",
        "        self._history_dict = defaultdict(dict)\n",
        "        self.set_title(title)\n",
        "        self.groups = self.get_groups(groups)\n",
        "\n",
        "    def get_groups(self, groups):\n",
        "        if groups is not None:\n",
        "            return self._history_dict.keys()\n",
        "        if type(groups) is str:\n",
        "            groups = [groups]\n",
        "        return groups\n",
        "\n",
        "    def set_title(self, title):\n",
        "        for g in self._history_dict.keys():\n",
        "            self._history_dict[g][title] = []  # reset data\n",
        "        self.title = title\n",
        "\n",
        "    # group e.g. \"loss_val\" tag e.g. \"experiment_1\"\n",
        "    def add_scalar(self, group: str, value, tag=None) -> None:\n",
        "        tag = self.title if tag is None else tag\n",
        "\n",
        "        if not tag in self._history_dict[group]:\n",
        "            self._history_dict[group][tag] = []\n",
        "        self._history_dict[group][tag].append(value)\n",
        "\n",
        "    def add_row(self, group: str, value, tag=None) -> None:\n",
        "        tag = self.title if tag is None else tag\n",
        "        self._history_dict[group][tag] = value\n",
        "\n",
        "    def display_keys(self, ax, data):\n",
        "        history_len = 0\n",
        "        ax.grid()\n",
        "        for key in data:\n",
        "            ax.plot(data[key], label=key)\n",
        "            history_len = max(history_len, len(data[key]))\n",
        "            if len(data) > 1:\n",
        "                ax.legend(loc=\"best\")\n",
        "            if history_len < 50:\n",
        "                ax.set_xlabel(\"step\")\n",
        "                ax.set_xticks(np.arange(history_len))\n",
        "                ax.set_xticklabels(np.arange(history_len))\n",
        "\n",
        "    def display(self, groups=None):\n",
        "        clear_output()\n",
        "        if groups is None:\n",
        "            groups = self.groups\n",
        "        n_groups = len(groups)\n",
        "        fig, ax = plt.subplots(1, n_groups, figsize=(10 // n_groups, 3))\n",
        "        if n_groups == 1:\n",
        "            ax = [ax]\n",
        "        for i, g in enumerate(groups):\n",
        "            ax[i].set_ylabel(g)\n",
        "            self.display_keys(ax[i], self.history_dict[g])\n",
        "        fig.tight_layout()\n",
        "        plt.show()\n",
        "\n",
        "    @property\n",
        "    def history_dict(self):\n",
        "        return dict(self._history_dict)\n",
        "\n",
        "\n",
        "class BaseTrainer:\n",
        "    def __init__(\n",
        "        self,\n",
        "        model,\n",
        "        train_dataloader,\n",
        "        test_dataloader,\n",
        "    ):\n",
        "        self.model = model\n",
        "        self.criterion = nn.MSELoss()\n",
        "        self.optimizer = torch.optim.AdamW(model.parameters(), lr=0.01, weight_decay=0.01)\n",
        "        self.scheduler = None\n",
        "        self.num_epochs = 10\n",
        "        self.device = torch.device(\"cuda\" if torch.cuda.is_available() else \"cpu\")\n",
        "\n",
        "        self.train_dataloader = train_dataloader\n",
        "        self.test_dataloader = test_dataloader\n",
        "        self.best_model = None\n",
        "        self.best_loss = None\n",
        "        #self.set_score_function(nn.MSELoss(), \"accuracy\")\n",
        "        self.pp = ProgressPlotter(title=\"baseline\", groups=[\"loss\"])\n",
        "\n",
        "   # def set_score_function(self, score_function, title=\"MSE\"):\n",
        "    #    self.score_function = score_function\n",
        "     #   self.quality_metric = title\n",
        "\n",
        "    def train_epoch(self):\n",
        "\n",
        "        self.model.train()\n",
        "        loss_hist = []\n",
        "        for images, labels in self.train_dataloader:\n",
        "            self.optimizer.zero_grad()\n",
        "            preds = self.model(images.to(self.device))\n",
        "            loss = self.criterion(preds, labels.to(self.device))\n",
        "            loss.backward()\n",
        "            loss_hist.append(loss.detach().cpu())\n",
        "            self.optimizer.step()\n",
        "        return torch.stack(loss_hist).mean().item()\n",
        "\n",
        "    def val_epoch(self):\n",
        "        loss_hist = []\n",
        "        self.model.eval()\n",
        "        with torch.no_grad():\n",
        "            for images, labels in self.test_dataloader:\n",
        "                preds = self.model(images.to(self.device))\n",
        "                loss = self.criterion(preds, labels.to(self.device))\n",
        "                loss_hist.append(loss.detach().cpu())\n",
        "        return torch.stack(loss_hist).mean()\n",
        "\n",
        "    def fit(self, verbose=True, val_only = False):\n",
        "        self.model.to(self.device)\n",
        "        best_loss_on_val = np.inf\n",
        "        i = 0\n",
        "        for epoch in tqdm(range(self.num_epochs)):\n",
        "            loss_on_train = self.train_epoch()\n",
        "            loss_on_val = self.val_epoch()\n",
        "\n",
        "            if self.scheduler is not None:\n",
        "                self.scheduler.step()\n",
        "\n",
        "            if best_loss_on_val > loss_on_val:\n",
        "                print(\"Best model updated\")\n",
        "                best_metric_on_val = loss_on_val\n",
        "                self.best_loss = best_metric_on_val\n",
        "                self.save_best_model()\n",
        "\n",
        "            if i > 0:\n",
        "                self.pp.add_scalar(group=\"loss\", value=loss_on_train, tag=\"train\")\n",
        "                self.pp.add_scalar(group=\"loss\", value=loss_on_val, tag=\"val\")\n",
        "                if verbose:\n",
        "                    self.pp.display()\n",
        "            i += 1\n",
        "\n",
        "            #if verbose:\n",
        "             #   self.pp.display()\n",
        "\n",
        "    #def validate(self, on_train=False, using_best_model=False, **kwargs):\n",
        "\n",
        "     #   dl = self.train_dataloader if on_train else self.test_dataloader\n",
        "      #  model = self.best_model if using_best_model else self.model\n",
        "\n",
        "       # y_pred, y_true = self.get_predictions(model, dl)\n",
        "        #return self.score_function(y_pred, y_true)#, **kwargs)\n",
        "\n",
        "    def give_best_model(self, on_train=False, using_best_model=False, **kwargs):\n",
        "\n",
        "        dl = self.train_dataloader if on_train else self.test_dataloader\n",
        "        model = self.best_model if using_best_model else self.model\n",
        "        return model\n",
        "\n",
        "    def give_best_loss(self):\n",
        "\n",
        "        return self.best_loss\n",
        "\n",
        "    def get_predictions(self, model, dl):\n",
        "        y_pred = torch.tensor([])\n",
        "        y_true = torch.tensor([])\n",
        "\n",
        "        with torch.no_grad():\n",
        "            for i, data in enumerate(dl):\n",
        "                img, label = data\n",
        "                outputs = model(img.to(self.device))\n",
        "                _, predicted = torch.max(outputs.data, 1)\n",
        "                y_pred = torch.cat((y_pred, predicted.cpu().detach()))\n",
        "                y_true = torch.cat((y_true, label))\n",
        "        return y_pred, y_true\n",
        "\n",
        "    def save_best_model(\n",
        "        self,\n",
        "    ):\n",
        "        model_copy = deepcopy(self.model)\n",
        "        self.best_model = model_copy"
      ],
      "metadata": {
        "id": "8zPQ7PPYChCP"
      },
      "execution_count": null,
      "outputs": []
    },
    {
      "cell_type": "code",
      "source": [
        "class DiceLoss(nn.Module):\n",
        "    def __init__(self, weight=None, size_average=True):\n",
        "        super(DiceLoss, self).__init__()\n",
        "\n",
        "    def forward(self, inputs, targets, smooth=1):\n",
        "\n",
        "        #comment out if your model contains a sigmoid or equivalent activation layer\n",
        "        inputs = F.sigmoid(inputs)\n",
        "\n",
        "        #flatten label and prediction tensors\n",
        "        inputs = inputs.view(-1)\n",
        "        targets = targets.view(-1)\n",
        "\n",
        "        intersection = (inputs * targets).sum()\n",
        "        dice = (2.*intersection + smooth)/(inputs.sum() + targets.sum() + smooth)\n",
        "\n",
        "        return 1 - dice"
      ],
      "metadata": {
        "id": "OtS3pgP2nNyk"
      },
      "execution_count": null,
      "outputs": []
    },
    {
      "cell_type": "code",
      "source": [
        "trainer = BaseTrainer(\n",
        "    model=ConvNet(),\n",
        "    train_dataloader=train_loader ,\n",
        "    test_dataloader=test_loader ,\n",
        ")\n",
        "\n",
        "trainer.num_epochs = 20\n",
        "trainer.scheduler = torch.optim.lr_scheduler.MultiStepLR(trainer.optimizer, milestones=[4, 8, 12, 16], gamma=0.1)\n",
        "trainer.criterion = nn.MSELoss()\n",
        "trainer.fit()"
      ],
      "metadata": {
        "colab": {
          "base_uri": "https://localhost:8080/",
          "height": 254,
          "referenced_widgets": [
            "e8b99e963a5246d4aead54fa82b03ccb",
            "17ed7748066d475e8272af4107d1015a",
            "1e6fae10e07c4c9ab4835b9d7287c3be",
            "6934a46b86c04174bde70ece087a79af",
            "c77910d67b7d4d49b2842e4a0a41cc4d",
            "eef6ea86d702427390e11f2236ce920b",
            "1225c59cfbf94665b3e1ef60f9585b2b",
            "181ae3d0cbf4406bb1129f30ce906c25",
            "cfc2e079f4f44f68b9f00812eab3b0ce",
            "9926518c4fcd441786774e10c86eea5e",
            "a2a3b683e9594a858e921f20ad708262"
          ]
        },
        "id": "vz2VDtmsCpHM",
        "outputId": "a2110e10-65b3-4fdb-b70e-f4eea21034d8"
      },
      "execution_count": null,
      "outputs": [
        {
          "output_type": "display_data",
          "data": {
            "text/plain": [
              "<Figure size 1000x300 with 1 Axes>"
            ],
            "image/png": "[encoded data removed]"
          },
          "metadata": {}
        }
      ]
    },
    {
      "cell_type": "code",
      "source": [
        "trainer = BaseTrainer(\n",
        "    model=ConvNet(),\n",
        "    train_dataloader=train_loader ,\n",
        "    test_dataloader=test_loader ,\n",
        ")\n",
        "\n",
        "trainer.num_epochs = 20\n",
        "trainer.fit()"
      ],
      "metadata": {
        "colab": {
          "base_uri": "https://localhost:8080/",
          "height": 256,
          "referenced_widgets": [
            "26b495645cb24e2b8a98d1a96b046a7f",
            "abe6f0b80dd145b6be2598eeb080428e",
            "2cadbaf6853e4bde9871c21588c4a8fd",
            "cc0dc9d022104f9ca2b1356da58c359f",
            "a9dde207b9924d958e141d2e4a9b9306",
            "cf17f8f324e546e4a086e0dd4266a6e1",
            "291982be74f941bb937afa2ab2fa6a4b",
            "dcff4d389f9a44f4bc4571fc17df7411",
            "c3a103fd9ba04a8f90ebdcd0ad81cb22",
            "59752dd11d514798a24007f5a5a71ae9",
            "bab86aaf42a440aea56b958f2d5bbcbf"
          ]
        },
        "id": "drVRL75ac5Yt",
        "outputId": "c7909ece-5598-4217-c155-8dc8172fc821"
      },
      "execution_count": null,
      "outputs": [
        {
          "output_type": "display_data",
          "data": {
            "text/plain": [
              "<Figure size 1000x300 with 1 Axes>"
            ],
            "image/png": "[encoded data removed]"
          },
          "metadata": {}
        }
      ]
    },
    {
      "cell_type": "markdown",
      "metadata": {
        "id": "a34al9UMYvud"
      },
      "source": [
        "# ResNet3D"
      ]
    },
    {
      "cell_type": "code",
      "execution_count": null,
      "metadata": {
        "id": "X1Ibag5UxDyU"
      },
      "outputs": [],
      "source": [
        "# torch summery сравнить две сети и их размеры"
      ]
    },
    {
      "cell_type": "code",
      "execution_count": null,
      "metadata": {
        "id": "ihk35PuEcnDk"
      },
      "outputs": [],
      "source": [
        "batch_size = 1\n",
        "train_data = CustomTensorDatasetTrain(x_train, y_train)\n",
        "train_loader = DataLoader(train_data, batch_size=batch_size, shuffle=True)\n",
        "\n",
        "batch_size_test = 1\n",
        "test_data = CustomTensorDatasetTest(x_test, y_test)\n",
        "test_loader = DataLoader(test_data, batch_size=batch_size_test, shuffle=False)"
      ]
    },
    {
      "cell_type": "code",
      "execution_count": null,
      "metadata": {
        "id": "h8UYZpD2c4Hy"
      },
      "outputs": [],
      "source": [
        "class ConvNet3D(nn.Module):\n",
        "    def __init__(self):\n",
        "        super(ConvNet3D, self).__init__()\n",
        "\n",
        "        resnet_3d = models.video.r3d_18(pretrained=False)\n",
        "        resnet_3d.stem[0] = nn.Conv3d(1, 64, kernel_size=(3, 7, 7), stride=(1, 2, 2), padding=(1, 3, 3), bias=False)\n",
        "        self.encoder = torch.nn.Sequential(*(list(resnet_3d.children())[:-1]))\n",
        "\n",
        "        self.decoder = nn.Sequential(\n",
        "                #PrintLayer(),\n",
        "\n",
        "                nn.ConvTranspose2d(512, 256, 3, stride=2, padding=1),\n",
        "                nn.Upsample(scale_factor=2, mode='bicubic'), #попробовать 'bicubic' and 'trilinear\n",
        "                nn.ReLU(True),\n",
        "                #PrintLayer(),\n",
        "\n",
        "                nn.ConvTranspose2d(256, 128, 3, stride=2, padding=1),\n",
        "                nn.Upsample(scale_factor=2, mode='bicubic'),\n",
        "                nn.BatchNorm2d(128),\n",
        "                nn.ReLU(True),\n",
        "                #PrintLayer(),\n",
        "\n",
        "                nn.ConvTranspose2d(128, 64, 3, stride=2, padding=1),\n",
        "                nn.Upsample(scale_factor=2, mode='bicubic'),\n",
        "                nn.ReLU(True),\n",
        "                #PrintLayer(),\n",
        "\n",
        "                nn.ConvTranspose2d(64, 32, 3, stride=2, padding=1),\n",
        "                nn.Upsample(scale_factor=2, mode='bicubic'),\n",
        "                nn.BatchNorm2d(32),\n",
        "                nn.ReLU(True),\n",
        "                #PrintLayer(),\n",
        "\n",
        "                nn.ConvTranspose2d(32, 16, 3, stride=2, padding=3),\n",
        "                nn.Upsample(size=(27, 27), mode='bicubic'),\n",
        "                nn.ReLU(True),\n",
        "                #PrintLayer(),\n",
        "\n",
        "                nn.Conv2d(in_channels=16, out_channels=8, kernel_size=3, stride=1, padding=1),\n",
        "                nn.BatchNorm2d(8),\n",
        "                nn.ReLU(True),\n",
        "                #PrintLayer(),\n",
        "\n",
        "                nn.Conv2d(in_channels=8, out_channels=4, kernel_size=3, stride=1, padding=1),\n",
        "                nn.ReLU(True),\n",
        "                #PrintLayer(),\n",
        "\n",
        "                nn.Conv2d(in_channels=4, out_channels=2, kernel_size=3, stride=1, padding=1)\n",
        "        )\n",
        "        #self.dropout1 = nn.Dropout(p=0.5)\n",
        "\n",
        "    def forward(self, x):\n",
        "        x = x[:, :80] #\n",
        "        x = x[:, None, :, :, :] # перенести в даталоадер\n",
        "        encoded = self.encoder(x)\n",
        "        encoded = encoded[:, :, 0]\n",
        "        decoded = self.decoder(encoded)\n",
        "\n",
        "        return decoded"
      ]
    },
    {
      "cell_type": "markdown",
      "metadata": {
        "id": "WxlZtFDbgAyF"
      },
      "source": [
        "# Обучение"
      ]
    },
    {
      "cell_type": "code",
      "source": [
        "trainer_3d = BaseTrainer(\n",
        "    model=ConvNet3D(),\n",
        "    train_dataloader=train_loader ,\n",
        "    test_dataloader=test_loader ,\n",
        ")\n",
        "\n",
        "#trainer.optimizer = torch.optim.AdamW(model.parameters(), lr=0.01, weight_decay=0.01)\n",
        "trainer_3d.scheduler = torch.optim.lr_scheduler.MultiStepLR(trainer_3d.optimizer, milestones=[4,8], gamma=0.1)\n",
        "#trainer.criterion = nn.MSELoss()\n",
        "trainer_3d.num_epochs = 10\n",
        "trainer_3d.fit()"
      ],
      "metadata": {
        "colab": {
          "base_uri": "https://localhost:8080/",
          "height": 256,
          "referenced_widgets": [
            "6ede32cb109243588c0cd47f8c22ea6c",
            "cf95b4673afb4d9fa02293758c7ead68",
            "46815fdc6c1b40c2980f2cded5fe0cdd",
            "d35e3727b6b54b289e0c21493332ce99",
            "a89db7441f1d4e3fa53afb1d1fe22b1d",
            "5d3a586918764f31813eeeac5643f206",
            "e1405518200b47b7a62635d11c558814",
            "71d7686385f849ac9a7fe9cfbfe69953",
            "af02cb0739014d16840f3b88363c19f6",
            "96aabacac5a34becb343bc2ec8707cbc",
            "a715aa05762c45678ee43ba9f19dad55"
          ]
        },
        "id": "nSLLowkIsUm7",
        "outputId": "d3ccebac-c0c0-4bdf-bb51-28831610f9a9"
      },
      "execution_count": null,
      "outputs": [
        {
          "output_type": "display_data",
          "data": {
            "text/plain": [
              "<Figure size 1000x300 with 1 Axes>"
            ],
            "image/png": "[encoded data removed]"
          },
          "metadata": {}
        }
      ]
    },
    {
      "cell_type": "code",
      "source": [
        "trainer_3d = BaseTrainer(\n",
        "    model=ConvNet3D(),\n",
        "    train_dataloader=train_loader ,\n",
        "    test_dataloader=test_loader ,\n",
        ")\n",
        "\n",
        "trainer_3d.scheduler = torch.optim.lr_scheduler.MultiStepLR(trainer_3d.optimizer, milestones=[4,8], gamma=0.1)\n",
        "trainer_3d.num_epochs = 10\n",
        "trainer_3d.fit()"
      ],
      "metadata": {
        "colab": {
          "base_uri": "https://localhost:8080/",
          "height": 256,
          "referenced_widgets": [
            "d54f6e62c91447beb3ae37f2af75c023",
            "ec024b8c61d24230b757397428a0f6fc",
            "83150c1ede7b4c64bba22bf575bc91d1",
            "a5cbdf1469dd4c059e9eecedd7bbf894",
            "c248e83477404329af6e571e0eb0b6f2",
            "5d7ca2b2a3f547d9b3dfebd63177163a",
            "b74d2da98cd54f6c982eb3fd7d067597",
            "de6063178ac441eea746514c9ccff9ba",
            "3414d3db56854e7dbf2db12f2184fffc",
            "52070344905e43fe90324a6522576b20",
            "4ecd47dde67d407cac4abba5496e3f69"
          ]
        },
        "id": "OYJHRgIfTGF5",
        "outputId": "b72e0f9b-ddd8-43a9-d0b7-f6f68f36d120"
      },
      "execution_count": null,
      "outputs": [
        {
          "output_type": "display_data",
          "data": {
            "text/plain": [
              "<Figure size 1000x300 with 1 Axes>"
            ],
            "image/png": "[encoded data removed]"
          },
          "metadata": {}
        }
      ]
    },
    {
      "cell_type": "markdown",
      "source": [
        "# Проверка"
      ],
      "metadata": {
        "id": "hHOm6yZ7BNzh"
      }
    },
    {
      "cell_type": "markdown",
      "source": [
        "ResNet18"
      ],
      "metadata": {
        "id": "pTx_gJaPDN1f"
      }
    },
    {
      "cell_type": "code",
      "source": [
        "best_model = trainer.give_best_model()"
      ],
      "metadata": {
        "id": "SwbweA4J_6-l"
      },
      "execution_count": null,
      "outputs": []
    },
    {
      "cell_type": "code",
      "source": [
        "n = 0\n",
        "for _, batch in enumerate(test_loader, 0):\n",
        "    mov, img = batch\n",
        "    mov, img = mov.to(device), img.to(device)\n",
        "    if n > 3:\n",
        "        break"
      ],
      "metadata": {
        "id": "7R_zdrpy_-zW"
      },
      "execution_count": null,
      "outputs": []
    },
    {
      "cell_type": "code",
      "source": [
        "best_model.eval()\n",
        "pred_img = best_model(mov)\n",
        "x = pred_img[1, 0].cpu().detach().numpy()\n",
        "sb.heatmap(x)"
      ],
      "metadata": {
        "colab": {
          "base_uri": "https://localhost:8080/",
          "height": 452
        },
        "id": "pMpYiLc2AFeL",
        "outputId": "bbd8f3c4-51a2-4bdc-89d7-e6f68dce9bc9"
      },
      "execution_count": null,
      "outputs": [
        {
          "output_type": "execute_result",
          "data": {
            "text/plain": [
              "<Axes: >"
            ]
          },
          "metadata": {},
          "execution_count": 38
        },
        {
          "output_type": "display_data",
          "data": {
            "text/plain": [
              "<Figure size 640x480 with 2 Axes>"
            ],
            "image/png": "[encoded data removed]"
          },
          "metadata": {}
        }
      ]
    },
    {
      "cell_type": "code",
      "source": [
        "test_img = img[0, 0].cpu().detach().numpy()\n",
        "sb.heatmap(test_img)"
      ],
      "metadata": {
        "colab": {
          "base_uri": "https://localhost:8080/",
          "height": 451
        },
        "id": "TNNGMztzAQ81",
        "outputId": "ca9dd33d-5b1e-45f6-df72-f1f16e7fed53"
      },
      "execution_count": null,
      "outputs": [
        {
          "output_type": "execute_result",
          "data": {
            "text/plain": [
              "<Axes: >"
            ]
          },
          "metadata": {},
          "execution_count": 39
        },
        {
          "output_type": "display_data",
          "data": {
            "text/plain": [
              "<Figure size 640x480 with 2 Axes>"
            ],
            "image/png": "[encoded data removed]"
          },
          "metadata": {}
        }
      ]
    },
    {
      "cell_type": "markdown",
      "source": [
        "ResNet3D"
      ],
      "metadata": {
        "id": "QlxxQuPhDRqj"
      }
    },
    {
      "cell_type": "code",
      "source": [
        "best_model_3d = trainer_3d.give_best_model()"
      ],
      "metadata": {
        "id": "uacJAQqgBRSr"
      },
      "execution_count": null,
      "outputs": []
    },
    {
      "cell_type": "code",
      "source": [
        "n = 0\n",
        "for _, batch in enumerate(test_loader, 0):\n",
        "    mov, img = batch\n",
        "    mov, img = mov.to(device), img.to(device)\n",
        "    if n > 5:\n",
        "        break"
      ],
      "metadata": {
        "id": "m34lulL1DYIF"
      },
      "execution_count": null,
      "outputs": []
    },
    {
      "cell_type": "code",
      "source": [
        "best_model_3d.eval()\n",
        "pred_img = best_model_3d(mov)\n",
        "x = pred_img[0, 0].cpu().detach().numpy()\n",
        "sb.heatmap(x)"
      ],
      "metadata": {
        "colab": {
          "base_uri": "https://localhost:8080/",
          "height": 451
        },
        "id": "Gni0Z3AoDbIx",
        "outputId": "18e24a31-2381-4136-84ff-b7ded23ecf53"
      },
      "execution_count": null,
      "outputs": [
        {
          "output_type": "execute_result",
          "data": {
            "text/plain": [
              "<Axes: >"
            ]
          },
          "metadata": {},
          "execution_count": 17
        },
        {
          "output_type": "display_data",
          "data": {
            "text/plain": [
              "<Figure size 640x480 with 2 Axes>"
            ],
            "image/png": "[encoded data removed]"
          },
          "metadata": {}
        }
      ]
    },
    {
      "cell_type": "code",
      "source": [
        "test_img = img[0, 0].cpu().detach().numpy()\n",
        "sb.heatmap(test_img)"
      ],
      "metadata": {
        "colab": {
          "base_uri": "https://localhost:8080/",
          "height": 451
        },
        "id": "4_bszkfDEypY",
        "outputId": "b980ed44-7b91-4bfa-ef28-24dbb89db99b"
      },
      "execution_count": null,
      "outputs": [
        {
          "output_type": "execute_result",
          "data": {
            "text/plain": [
              "<Axes: >"
            ]
          },
          "metadata": {},
          "execution_count": 18
        },
        {
          "output_type": "display_data",
          "data": {
            "text/plain": [
              "<Figure size 640x480 with 2 Axes>"
            ],
            "image/png": "[encoded data removed]"
          },
          "metadata": {}
        }
      ]
    }
  ],
  "metadata": {
    "accelerator": "GPU",
    "colab": {
      "machine_shape": "hm",
      "toc_visible": true,
      "provenance": [],
      "gpuType": "T4"
    },
    "kernelspec": {
      "display_name": "Python 3",
      "name": "python3"
    },
    "language_info": {
      "name": "python"
    },
    "widgets": {
      "application/vnd.jupyter.widget-state+json": {
        "e8b99e963a5246d4aead54fa82b03ccb": {
          "model_module": "@jupyter-widgets/controls",
          "model_name": "HBoxModel",
          "model_module_version": "1.5.0",
          "state": {
            "_dom_classes": [],
            "_model_module": "@jupyter-widgets/controls",
            "_model_module_version": "1.5.0",
            "_model_name": "HBoxModel",
            "_view_count": null,
            "_view_module": "@jupyter-widgets/controls",
            "_view_module_version": "1.5.0",
            "_view_name": "HBoxView",
            "box_style": "",
            "children": [
              "IPY_MODEL_17ed7748066d475e8272af4107d1015a",
              "IPY_MODEL_1e6fae10e07c4c9ab4835b9d7287c3be",
              "IPY_MODEL_6934a46b86c04174bde70ece087a79af"
            ],
            "layout": "IPY_MODEL_c77910d67b7d4d49b2842e4a0a41cc4d"
          }
        },
        "17ed7748066d475e8272af4107d1015a": {
          "model_module": "@jupyter-widgets/controls",
          "model_name": "HTMLModel",
          "model_module_version": "1.5.0",
          "state": {
            "_dom_classes": [],
            "_model_module": "@jupyter-widgets/controls",
            "_model_module_version": "1.5.0",
            "_model_name": "HTMLModel",
            "_view_count": null,
            "_view_module": "@jupyter-widgets/controls",
            "_view_module_version": "1.5.0",
            "_view_name": "HTMLView",
            "description": "",
            "description_tooltip": null,
            "layout": "IPY_MODEL_eef6ea86d702427390e11f2236ce920b",
            "placeholder": "​",
            "style": "IPY_MODEL_1225c59cfbf94665b3e1ef60f9585b2b",
            "value": "100%"
          }
        },
        "1e6fae10e07c4c9ab4835b9d7287c3be": {
          "model_module": "@jupyter-widgets/controls",
          "model_name": "FloatProgressModel",
          "model_module_version": "1.5.0",
          "state": {
            "_dom_classes": [],
            "_model_module": "@jupyter-widgets/controls",
            "_model_module_version": "1.5.0",
            "_model_name": "FloatProgressModel",
            "_view_count": null,
            "_view_module": "@jupyter-widgets/controls",
            "_view_module_version": "1.5.0",
            "_view_name": "ProgressView",
            "bar_style": "success",
            "description": "",
            "description_tooltip": null,
            "layout": "IPY_MODEL_181ae3d0cbf4406bb1129f30ce906c25",
            "max": 20,
            "min": 0,
            "orientation": "horizontal",
            "style": "IPY_MODEL_cfc2e079f4f44f68b9f00812eab3b0ce",
            "value": 20
          }
        },
        "6934a46b86c04174bde70ece087a79af": {
          "model_module": "@jupyter-widgets/controls",
          "model_name": "HTMLModel",
          "model_module_version": "1.5.0",
          "state": {
            "_dom_classes": [],
            "_model_module": "@jupyter-widgets/controls",
            "_model_module_version": "1.5.0",
            "_model_name": "HTMLModel",
            "_view_count": null,
            "_view_module": "@jupyter-widgets/controls",
            "_view_module_version": "1.5.0",
            "_view_name": "HTMLView",
            "description": "",
            "description_tooltip": null,
            "layout": "IPY_MODEL_9926518c4fcd441786774e10c86eea5e",
            "placeholder": "​",
            "style": "IPY_MODEL_a2a3b683e9594a858e921f20ad708262",
            "value": " 20/20 [00:54&lt;00:00,  2.84s/it]"
          }
        },
        "c77910d67b7d4d49b2842e4a0a41cc4d": {
          "model_module": "@jupyter-widgets/base",
          "model_name": "LayoutModel",
          "model_module_version": "1.2.0",
          "state": {
            "_model_module": "@jupyter-widgets/base",
            "_model_module_version": "1.2.0",
            "_model_name": "LayoutModel",
            "_view_count": null,
            "_view_module": "@jupyter-widgets/base",
            "_view_module_version": "1.2.0",
            "_view_name": "LayoutView",
            "align_content": null,
            "align_items": null,
            "align_self": null,
            "border": null,
            "bottom": null,
            "display": null,
            "flex": null,
            "flex_flow": null,
            "grid_area": null,
            "grid_auto_columns": null,
            "grid_auto_flow": null,
            "grid_auto_rows": null,
            "grid_column": null,
            "grid_gap": null,
            "grid_row": null,
            "grid_template_areas": null,
            "grid_template_columns": null,
            "grid_template_rows": null,
            "height": null,
            "justify_content": null,
            "justify_items": null,
            "left": null,
            "margin": null,
            "max_height": null,
            "max_width": null,
            "min_height": null,
            "min_width": null,
            "object_fit": null,
            "object_position": null,
            "order": null,
            "overflow": null,
            "overflow_x": null,
            "overflow_y": null,
            "padding": null,
            "right": null,
            "top": null,
            "visibility": null,
            "width": null
          }
        },
        "eef6ea86d702427390e11f2236ce920b": {
          "model_module": "@jupyter-widgets/base",
          "model_name": "LayoutModel",
          "model_module_version": "1.2.0",
          "state": {
            "_model_module": "@jupyter-widgets/base",
            "_model_module_version": "1.2.0",
            "_model_name": "LayoutModel",
            "_view_count": null,
            "_view_module": "@jupyter-widgets/base",
            "_view_module_version": "1.2.0",
            "_view_name": "LayoutView",
            "align_content": null,
            "align_items": null,
            "align_self": null,
            "border": null,
            "bottom": null,
            "display": null,
            "flex": null,
            "flex_flow": null,
            "grid_area": null,
            "grid_auto_columns": null,
            "grid_auto_flow": null,
            "grid_auto_rows": null,
            "grid_column": null,
            "grid_gap": null,
            "grid_row": null,
            "grid_template_areas": null,
            "grid_template_columns": null,
            "grid_template_rows": null,
            "height": null,
            "justify_content": null,
            "justify_items": null,
            "left": null,
            "margin": null,
            "max_height": null,
            "max_width": null,
            "min_height": null,
            "min_width": null,
            "object_fit": null,
            "object_position": null,
            "order": null,
            "overflow": null,
            "overflow_x": null,
            "overflow_y": null,
            "padding": null,
            "right": null,
            "top": null,
            "visibility": null,
            "width": null
          }
        },
        "1225c59cfbf94665b3e1ef60f9585b2b": {
          "model_module": "@jupyter-widgets/controls",
          "model_name": "DescriptionStyleModel",
          "model_module_version": "1.5.0",
          "state": {
            "_model_module": "@jupyter-widgets/controls",
            "_model_module_version": "1.5.0",
            "_model_name": "DescriptionStyleModel",
            "_view_count": null,
            "_view_module": "@jupyter-widgets/base",
            "_view_module_version": "1.2.0",
            "_view_name": "StyleView",
            "description_width": ""
          }
        },
        "181ae3d0cbf4406bb1129f30ce906c25": {
          "model_module": "@jupyter-widgets/base",
          "model_name": "LayoutModel",
          "model_module_version": "1.2.0",
          "state": {
            "_model_module": "@jupyter-widgets/base",
            "_model_module_version": "1.2.0",
            "_model_name": "LayoutModel",
            "_view_count": null,
            "_view_module": "@jupyter-widgets/base",
            "_view_module_version": "1.2.0",
            "_view_name": "LayoutView",
            "align_content": null,
            "align_items": null,
            "align_self": null,
            "border": null,
            "bottom": null,
            "display": null,
            "flex": null,
            "flex_flow": null,
            "grid_area": null,
            "grid_auto_columns": null,
            "grid_auto_flow": null,
            "grid_auto_rows": null,
            "grid_column": null,
            "grid_gap": null,
            "grid_row": null,
            "grid_template_areas": null,
            "grid_template_columns": null,
            "grid_template_rows": null,
            "height": null,
            "justify_content": null,
            "justify_items": null,
            "left": null,
            "margin": null,
            "max_height": null,
            "max_width": null,
            "min_height": null,
            "min_width": null,
            "object_fit": null,
            "object_position": null,
            "order": null,
            "overflow": null,
            "overflow_x": null,
            "overflow_y": null,
            "padding": null,
            "right": null,
            "top": null,
            "visibility": null,
            "width": null
          }
        },
        "cfc2e079f4f44f68b9f00812eab3b0ce": {
          "model_module": "@jupyter-widgets/controls",
          "model_name": "ProgressStyleModel",
          "model_module_version": "1.5.0",
          "state": {
            "_model_module": "@jupyter-widgets/controls",
            "_model_module_version": "1.5.0",
            "_model_name": "ProgressStyleModel",
            "_view_count": null,
            "_view_module": "@jupyter-widgets/base",
            "_view_module_version": "1.2.0",
            "_view_name": "StyleView",
            "bar_color": null,
            "description_width": ""
          }
        },
        "9926518c4fcd441786774e10c86eea5e": {
          "model_module": "@jupyter-widgets/base",
          "model_name": "LayoutModel",
          "model_module_version": "1.2.0",
          "state": {
            "_model_module": "@jupyter-widgets/base",
            "_model_module_version": "1.2.0",
            "_model_name": "LayoutModel",
            "_view_count": null,
            "_view_module": "@jupyter-widgets/base",
            "_view_module_version": "1.2.0",
            "_view_name": "LayoutView",
            "align_content": null,
            "align_items": null,
            "align_self": null,
            "border": null,
            "bottom": null,
            "display": null,
            "flex": null,
            "flex_flow": null,
            "grid_area": null,
            "grid_auto_columns": null,
            "grid_auto_flow": null,
            "grid_auto_rows": null,
            "grid_column": null,
            "grid_gap": null,
            "grid_row": null,
            "grid_template_areas": null,
            "grid_template_columns": null,
            "grid_template_rows": null,
            "height": null,
            "justify_content": null,
            "justify_items": null,
            "left": null,
            "margin": null,
            "max_height": null,
            "max_width": null,
            "min_height": null,
            "min_width": null,
            "object_fit": null,
            "object_position": null,
            "order": null,
            "overflow": null,
            "overflow_x": null,
            "overflow_y": null,
            "padding": null,
            "right": null,
            "top": null,
            "visibility": null,
            "width": null
          }
        },
        "a2a3b683e9594a858e921f20ad708262": {
          "model_module": "@jupyter-widgets/controls",
          "model_name": "DescriptionStyleModel",
          "model_module_version": "1.5.0",
          "state": {
            "_model_module": "@jupyter-widgets/controls",
            "_model_module_version": "1.5.0",
            "_model_name": "DescriptionStyleModel",
            "_view_count": null,
            "_view_module": "@jupyter-widgets/base",
            "_view_module_version": "1.2.0",
            "_view_name": "StyleView",
            "description_width": ""
          }
        },
        "26b495645cb24e2b8a98d1a96b046a7f": {
          "model_module": "@jupyter-widgets/controls",
          "model_name": "HBoxModel",
          "model_module_version": "1.5.0",
          "state": {
            "_dom_classes": [],
            "_model_module": "@jupyter-widgets/controls",
            "_model_module_version": "1.5.0",
            "_model_name": "HBoxModel",
            "_view_count": null,
            "_view_module": "@jupyter-widgets/controls",
            "_view_module_version": "1.5.0",
            "_view_name": "HBoxView",
            "box_style": "",
            "children": [
              "IPY_MODEL_abe6f0b80dd145b6be2598eeb080428e",
              "IPY_MODEL_2cadbaf6853e4bde9871c21588c4a8fd",
              "IPY_MODEL_cc0dc9d022104f9ca2b1356da58c359f"
            ],
            "layout": "IPY_MODEL_a9dde207b9924d958e141d2e4a9b9306"
          }
        },
        "abe6f0b80dd145b6be2598eeb080428e": {
          "model_module": "@jupyter-widgets/controls",
          "model_name": "HTMLModel",
          "model_module_version": "1.5.0",
          "state": {
            "_dom_classes": [],
            "_model_module": "@jupyter-widgets/controls",
            "_model_module_version": "1.5.0",
            "_model_name": "HTMLModel",
            "_view_count": null,
            "_view_module": "@jupyter-widgets/controls",
            "_view_module_version": "1.5.0",
            "_view_name": "HTMLView",
            "description": "",
            "description_tooltip": null,
            "layout": "IPY_MODEL_cf17f8f324e546e4a086e0dd4266a6e1",
            "placeholder": "​",
            "style": "IPY_MODEL_291982be74f941bb937afa2ab2fa6a4b",
            "value": "100%"
          }
        },
        "2cadbaf6853e4bde9871c21588c4a8fd": {
          "model_module": "@jupyter-widgets/controls",
          "model_name": "FloatProgressModel",
          "model_module_version": "1.5.0",
          "state": {
            "_dom_classes": [],
            "_model_module": "@jupyter-widgets/controls",
            "_model_module_version": "1.5.0",
            "_model_name": "FloatProgressModel",
            "_view_count": null,
            "_view_module": "@jupyter-widgets/controls",
            "_view_module_version": "1.5.0",
            "_view_name": "ProgressView",
            "bar_style": "success",
            "description": "",
            "description_tooltip": null,
            "layout": "IPY_MODEL_dcff4d389f9a44f4bc4571fc17df7411",
            "max": 20,
            "min": 0,
            "orientation": "horizontal",
            "style": "IPY_MODEL_c3a103fd9ba04a8f90ebdcd0ad81cb22",
            "value": 20
          }
        },
        "cc0dc9d022104f9ca2b1356da58c359f": {
          "model_module": "@jupyter-widgets/controls",
          "model_name": "HTMLModel",
          "model_module_version": "1.5.0",
          "state": {
            "_dom_classes": [],
            "_model_module": "@jupyter-widgets/controls",
            "_model_module_version": "1.5.0",
            "_model_name": "HTMLModel",
            "_view_count": null,
            "_view_module": "@jupyter-widgets/controls",
            "_view_module_version": "1.5.0",
            "_view_name": "HTMLView",
            "description": "",
            "description_tooltip": null,
            "layout": "IPY_MODEL_59752dd11d514798a24007f5a5a71ae9",
            "placeholder": "​",
            "style": "IPY_MODEL_bab86aaf42a440aea56b958f2d5bbcbf",
            "value": " 20/20 [00:47&lt;00:00,  2.48s/it]"
          }
        },
        "a9dde207b9924d958e141d2e4a9b9306": {
          "model_module": "@jupyter-widgets/base",
          "model_name": "LayoutModel",
          "model_module_version": "1.2.0",
          "state": {
            "_model_module": "@jupyter-widgets/base",
            "_model_module_version": "1.2.0",
            "_model_name": "LayoutModel",
            "_view_count": null,
            "_view_module": "@jupyter-widgets/base",
            "_view_module_version": "1.2.0",
            "_view_name": "LayoutView",
            "align_content": null,
            "align_items": null,
            "align_self": null,
            "border": null,
            "bottom": null,
            "display": null,
            "flex": null,
            "flex_flow": null,
            "grid_area": null,
            "grid_auto_columns": null,
            "grid_auto_flow": null,
            "grid_auto_rows": null,
            "grid_column": null,
            "grid_gap": null,
            "grid_row": null,
            "grid_template_areas": null,
            "grid_template_columns": null,
            "grid_template_rows": null,
            "height": null,
            "justify_content": null,
            "justify_items": null,
            "left": null,
            "margin": null,
            "max_height": null,
            "max_width": null,
            "min_height": null,
            "min_width": null,
            "object_fit": null,
            "object_position": null,
            "order": null,
            "overflow": null,
            "overflow_x": null,
            "overflow_y": null,
            "padding": null,
            "right": null,
            "top": null,
            "visibility": null,
            "width": null
          }
        },
        "cf17f8f324e546e4a086e0dd4266a6e1": {
          "model_module": "@jupyter-widgets/base",
          "model_name": "LayoutModel",
          "model_module_version": "1.2.0",
          "state": {
            "_model_module": "@jupyter-widgets/base",
            "_model_module_version": "1.2.0",
            "_model_name": "LayoutModel",
            "_view_count": null,
            "_view_module": "@jupyter-widgets/base",
            "_view_module_version": "1.2.0",
            "_view_name": "LayoutView",
            "align_content": null,
            "align_items": null,
            "align_self": null,
            "border": null,
            "bottom": null,
            "display": null,
            "flex": null,
            "flex_flow": null,
            "grid_area": null,
            "grid_auto_columns": null,
            "grid_auto_flow": null,
            "grid_auto_rows": null,
            "grid_column": null,
            "grid_gap": null,
            "grid_row": null,
            "grid_template_areas": null,
            "grid_template_columns": null,
            "grid_template_rows": null,
            "height": null,
            "justify_content": null,
            "justify_items": null,
            "left": null,
            "margin": null,
            "max_height": null,
            "max_width": null,
            "min_height": null,
            "min_width": null,
            "object_fit": null,
            "object_position": null,
            "order": null,
            "overflow": null,
            "overflow_x": null,
            "overflow_y": null,
            "padding": null,
            "right": null,
            "top": null,
            "visibility": null,
            "width": null
          }
        },
        "291982be74f941bb937afa2ab2fa6a4b": {
          "model_module": "@jupyter-widgets/controls",
          "model_name": "DescriptionStyleModel",
          "model_module_version": "1.5.0",
          "state": {
            "_model_module": "@jupyter-widgets/controls",
            "_model_module_version": "1.5.0",
            "_model_name": "DescriptionStyleModel",
            "_view_count": null,
            "_view_module": "@jupyter-widgets/base",
            "_view_module_version": "1.2.0",
            "_view_name": "StyleView",
            "description_width": ""
          }
        },
        "dcff4d389f9a44f4bc4571fc17df7411": {
          "model_module": "@jupyter-widgets/base",
          "model_name": "LayoutModel",
          "model_module_version": "1.2.0",
          "state": {
            "_model_module": "@jupyter-widgets/base",
            "_model_module_version": "1.2.0",
            "_model_name": "LayoutModel",
            "_view_count": null,
            "_view_module": "@jupyter-widgets/base",
            "_view_module_version": "1.2.0",
            "_view_name": "LayoutView",
            "align_content": null,
            "align_items": null,
            "align_self": null,
            "border": null,
            "bottom": null,
            "display": null,
            "flex": null,
            "flex_flow": null,
            "grid_area": null,
            "grid_auto_columns": null,
            "grid_auto_flow": null,
            "grid_auto_rows": null,
            "grid_column": null,
            "grid_gap": null,
            "grid_row": null,
            "grid_template_areas": null,
            "grid_template_columns": null,
            "grid_template_rows": null,
            "height": null,
            "justify_content": null,
            "justify_items": null,
            "left": null,
            "margin": null,
            "max_height": null,
            "max_width": null,
            "min_height": null,
            "min_width": null,
            "object_fit": null,
            "object_position": null,
            "order": null,
            "overflow": null,
            "overflow_x": null,
            "overflow_y": null,
            "padding": null,
            "right": null,
            "top": null,
            "visibility": null,
            "width": null
          }
        },
        "c3a103fd9ba04a8f90ebdcd0ad81cb22": {
          "model_module": "@jupyter-widgets/controls",
          "model_name": "ProgressStyleModel",
          "model_module_version": "1.5.0",
          "state": {
            "_model_module": "@jupyter-widgets/controls",
            "_model_module_version": "1.5.0",
            "_model_name": "ProgressStyleModel",
            "_view_count": null,
            "_view_module": "@jupyter-widgets/base",
            "_view_module_version": "1.2.0",
            "_view_name": "StyleView",
            "bar_color": null,
            "description_width": ""
          }
        },
        "59752dd11d514798a24007f5a5a71ae9": {
          "model_module": "@jupyter-widgets/base",
          "model_name": "LayoutModel",
          "model_module_version": "1.2.0",
          "state": {
            "_model_module": "@jupyter-widgets/base",
            "_model_module_version": "1.2.0",
            "_model_name": "LayoutModel",
            "_view_count": null,
            "_view_module": "@jupyter-widgets/base",
            "_view_module_version": "1.2.0",
            "_view_name": "LayoutView",
            "align_content": null,
            "align_items": null,
            "align_self": null,
            "border": null,
            "bottom": null,
            "display": null,
            "flex": null,
            "flex_flow": null,
            "grid_area": null,
            "grid_auto_columns": null,
            "grid_auto_flow": null,
            "grid_auto_rows": null,
            "grid_column": null,
            "grid_gap": null,
            "grid_row": null,
            "grid_template_areas": null,
            "grid_template_columns": null,
            "grid_template_rows": null,
            "height": null,
            "justify_content": null,
            "justify_items": null,
            "left": null,
            "margin": null,
            "max_height": null,
            "max_width": null,
            "min_height": null,
            "min_width": null,
            "object_fit": null,
            "object_position": null,
            "order": null,
            "overflow": null,
            "overflow_x": null,
            "overflow_y": null,
            "padding": null,
            "right": null,
            "top": null,
            "visibility": null,
            "width": null
          }
        },
        "bab86aaf42a440aea56b958f2d5bbcbf": {
          "model_module": "@jupyter-widgets/controls",
          "model_name": "DescriptionStyleModel",
          "model_module_version": "1.5.0",
          "state": {
            "_model_module": "@jupyter-widgets/controls",
            "_model_module_version": "1.5.0",
            "_model_name": "DescriptionStyleModel",
            "_view_count": null,
            "_view_module": "@jupyter-widgets/base",
            "_view_module_version": "1.2.0",
            "_view_name": "StyleView",
            "description_width": ""
          }
        },
        "6ede32cb109243588c0cd47f8c22ea6c": {
          "model_module": "@jupyter-widgets/controls",
          "model_name": "HBoxModel",
          "model_module_version": "1.5.0",
          "state": {
            "_dom_classes": [],
            "_model_module": "@jupyter-widgets/controls",
            "_model_module_version": "1.5.0",
            "_model_name": "HBoxModel",
            "_view_count": null,
            "_view_module": "@jupyter-widgets/controls",
            "_view_module_version": "1.5.0",
            "_view_name": "HBoxView",
            "box_style": "",
            "children": [
              "IPY_MODEL_cf95b4673afb4d9fa02293758c7ead68",
              "IPY_MODEL_46815fdc6c1b40c2980f2cded5fe0cdd",
              "IPY_MODEL_d35e3727b6b54b289e0c21493332ce99"
            ],
            "layout": "IPY_MODEL_a89db7441f1d4e3fa53afb1d1fe22b1d"
          }
        },
        "cf95b4673afb4d9fa02293758c7ead68": {
          "model_module": "@jupyter-widgets/controls",
          "model_name": "HTMLModel",
          "model_module_version": "1.5.0",
          "state": {
            "_dom_classes": [],
            "_model_module": "@jupyter-widgets/controls",
            "_model_module_version": "1.5.0",
            "_model_name": "HTMLModel",
            "_view_count": null,
            "_view_module": "@jupyter-widgets/controls",
            "_view_module_version": "1.5.0",
            "_view_name": "HTMLView",
            "description": "",
            "description_tooltip": null,
            "layout": "IPY_MODEL_5d3a586918764f31813eeeac5643f206",
            "placeholder": "​",
            "style": "IPY_MODEL_e1405518200b47b7a62635d11c558814",
            "value": "100%"
          }
        },
        "46815fdc6c1b40c2980f2cded5fe0cdd": {
          "model_module": "@jupyter-widgets/controls",
          "model_name": "FloatProgressModel",
          "model_module_version": "1.5.0",
          "state": {
            "_dom_classes": [],
            "_model_module": "@jupyter-widgets/controls",
            "_model_module_version": "1.5.0",
            "_model_name": "FloatProgressModel",
            "_view_count": null,
            "_view_module": "@jupyter-widgets/controls",
            "_view_module_version": "1.5.0",
            "_view_name": "ProgressView",
            "bar_style": "success",
            "description": "",
            "description_tooltip": null,
            "layout": "IPY_MODEL_71d7686385f849ac9a7fe9cfbfe69953",
            "max": 10,
            "min": 0,
            "orientation": "horizontal",
            "style": "IPY_MODEL_af02cb0739014d16840f3b88363c19f6",
            "value": 10
          }
        },
        "d35e3727b6b54b289e0c21493332ce99": {
          "model_module": "@jupyter-widgets/controls",
          "model_name": "HTMLModel",
          "model_module_version": "1.5.0",
          "state": {
            "_dom_classes": [],
            "_model_module": "@jupyter-widgets/controls",
            "_model_module_version": "1.5.0",
            "_model_name": "HTMLModel",
            "_view_count": null,
            "_view_module": "@jupyter-widgets/controls",
            "_view_module_version": "1.5.0",
            "_view_name": "HTMLView",
            "description": "",
            "description_tooltip": null,
            "layout": "IPY_MODEL_96aabacac5a34becb343bc2ec8707cbc",
            "placeholder": "​",
            "style": "IPY_MODEL_a715aa05762c45678ee43ba9f19dad55",
            "value": " 10/10 [12:30&lt;00:00, 73.31s/it]"
          }
        },
        "a89db7441f1d4e3fa53afb1d1fe22b1d": {
          "model_module": "@jupyter-widgets/base",
          "model_name": "LayoutModel",
          "model_module_version": "1.2.0",
          "state": {
            "_model_module": "@jupyter-widgets/base",
            "_model_module_version": "1.2.0",
            "_model_name": "LayoutModel",
            "_view_count": null,
            "_view_module": "@jupyter-widgets/base",
            "_view_module_version": "1.2.0",
            "_view_name": "LayoutView",
            "align_content": null,
            "align_items": null,
            "align_self": null,
            "border": null,
            "bottom": null,
            "display": null,
            "flex": null,
            "flex_flow": null,
            "grid_area": null,
            "grid_auto_columns": null,
            "grid_auto_flow": null,
            "grid_auto_rows": null,
            "grid_column": null,
            "grid_gap": null,
            "grid_row": null,
            "grid_template_areas": null,
            "grid_template_columns": null,
            "grid_template_rows": null,
            "height": null,
            "justify_content": null,
            "justify_items": null,
            "left": null,
            "margin": null,
            "max_height": null,
            "max_width": null,
            "min_height": null,
            "min_width": null,
            "object_fit": null,
            "object_position": null,
            "order": null,
            "overflow": null,
            "overflow_x": null,
            "overflow_y": null,
            "padding": null,
            "right": null,
            "top": null,
            "visibility": null,
            "width": null
          }
        },
        "5d3a586918764f31813eeeac5643f206": {
          "model_module": "@jupyter-widgets/base",
          "model_name": "LayoutModel",
          "model_module_version": "1.2.0",
          "state": {
            "_model_module": "@jupyter-widgets/base",
            "_model_module_version": "1.2.0",
            "_model_name": "LayoutModel",
            "_view_count": null,
            "_view_module": "@jupyter-widgets/base",
            "_view_module_version": "1.2.0",
            "_view_name": "LayoutView",
            "align_content": null,
            "align_items": null,
            "align_self": null,
            "border": null,
            "bottom": null,
            "display": null,
            "flex": null,
            "flex_flow": null,
            "grid_area": null,
            "grid_auto_columns": null,
            "grid_auto_flow": null,
            "grid_auto_rows": null,
            "grid_column": null,
            "grid_gap": null,
            "grid_row": null,
            "grid_template_areas": null,
            "grid_template_columns": null,
            "grid_template_rows": null,
            "height": null,
            "justify_content": null,
            "justify_items": null,
            "left": null,
            "margin": null,
            "max_height": null,
            "max_width": null,
            "min_height": null,
            "min_width": null,
            "object_fit": null,
            "object_position": null,
            "order": null,
            "overflow": null,
            "overflow_x": null,
            "overflow_y": null,
            "padding": null,
            "right": null,
            "top": null,
            "visibility": null,
            "width": null
          }
        },
        "e1405518200b47b7a62635d11c558814": {
          "model_module": "@jupyter-widgets/controls",
          "model_name": "DescriptionStyleModel",
          "model_module_version": "1.5.0",
          "state": {
            "_model_module": "@jupyter-widgets/controls",
            "_model_module_version": "1.5.0",
            "_model_name": "DescriptionStyleModel",
            "_view_count": null,
            "_view_module": "@jupyter-widgets/base",
            "_view_module_version": "1.2.0",
            "_view_name": "StyleView",
            "description_width": ""
          }
        },
        "71d7686385f849ac9a7fe9cfbfe69953": {
          "model_module": "@jupyter-widgets/base",
          "model_name": "LayoutModel",
          "model_module_version": "1.2.0",
          "state": {
            "_model_module": "@jupyter-widgets/base",
            "_model_module_version": "1.2.0",
            "_model_name": "LayoutModel",
            "_view_count": null,
            "_view_module": "@jupyter-widgets/base",
            "_view_module_version": "1.2.0",
            "_view_name": "LayoutView",
            "align_content": null,
            "align_items": null,
            "align_self": null,
            "border": null,
            "bottom": null,
            "display": null,
            "flex": null,
            "flex_flow": null,
            "grid_area": null,
            "grid_auto_columns": null,
            "grid_auto_flow": null,
            "grid_auto_rows": null,
            "grid_column": null,
            "grid_gap": null,
            "grid_row": null,
            "grid_template_areas": null,
            "grid_template_columns": null,
            "grid_template_rows": null,
            "height": null,
            "justify_content": null,
            "justify_items": null,
            "left": null,
            "margin": null,
            "max_height": null,
            "max_width": null,
            "min_height": null,
            "min_width": null,
            "object_fit": null,
            "object_position": null,
            "order": null,
            "overflow": null,
            "overflow_x": null,
            "overflow_y": null,
            "padding": null,
            "right": null,
            "top": null,
            "visibility": null,
            "width": null
          }
        },
        "af02cb0739014d16840f3b88363c19f6": {
          "model_module": "@jupyter-widgets/controls",
          "model_name": "ProgressStyleModel",
          "model_module_version": "1.5.0",
          "state": {
            "_model_module": "@jupyter-widgets/controls",
            "_model_module_version": "1.5.0",
            "_model_name": "ProgressStyleModel",
            "_view_count": null,
            "_view_module": "@jupyter-widgets/base",
            "_view_module_version": "1.2.0",
            "_view_name": "StyleView",
            "bar_color": null,
            "description_width": ""
          }
        },
        "96aabacac5a34becb343bc2ec8707cbc": {
          "model_module": "@jupyter-widgets/base",
          "model_name": "LayoutModel",
          "model_module_version": "1.2.0",
          "state": {
            "_model_module": "@jupyter-widgets/base",
            "_model_module_version": "1.2.0",
            "_model_name": "LayoutModel",
            "_view_count": null,
            "_view_module": "@jupyter-widgets/base",
            "_view_module_version": "1.2.0",
            "_view_name": "LayoutView",
            "align_content": null,
            "align_items": null,
            "align_self": null,
            "border": null,
            "bottom": null,
            "display": null,
            "flex": null,
            "flex_flow": null,
            "grid_area": null,
            "grid_auto_columns": null,
            "grid_auto_flow": null,
            "grid_auto_rows": null,
            "grid_column": null,
            "grid_gap": null,
            "grid_row": null,
            "grid_template_areas": null,
            "grid_template_columns": null,
            "grid_template_rows": null,
            "height": null,
            "justify_content": null,
            "justify_items": null,
            "left": null,
            "margin": null,
            "max_height": null,
            "max_width": null,
            "min_height": null,
            "min_width": null,
            "object_fit": null,
            "object_position": null,
            "order": null,
            "overflow": null,
            "overflow_x": null,
            "overflow_y": null,
            "padding": null,
            "right": null,
            "top": null,
            "visibility": null,
            "width": null
          }
        },
        "a715aa05762c45678ee43ba9f19dad55": {
          "model_module": "@jupyter-widgets/controls",
          "model_name": "DescriptionStyleModel",
          "model_module_version": "1.5.0",
          "state": {
            "_model_module": "@jupyter-widgets/controls",
            "_model_module_version": "1.5.0",
            "_model_name": "DescriptionStyleModel",
            "_view_count": null,
            "_view_module": "@jupyter-widgets/base",
            "_view_module_version": "1.2.0",
            "_view_name": "StyleView",
            "description_width": ""
          }
        },
        "d54f6e62c91447beb3ae37f2af75c023": {
          "model_module": "@jupyter-widgets/controls",
          "model_name": "HBoxModel",
          "model_module_version": "1.5.0",
          "state": {
            "_dom_classes": [],
            "_model_module": "@jupyter-widgets/controls",
            "_model_module_version": "1.5.0",
            "_model_name": "HBoxModel",
            "_view_count": null,
            "_view_module": "@jupyter-widgets/controls",
            "_view_module_version": "1.5.0",
            "_view_name": "HBoxView",
            "box_style": "",
            "children": [
              "IPY_MODEL_ec024b8c61d24230b757397428a0f6fc",
              "IPY_MODEL_83150c1ede7b4c64bba22bf575bc91d1",
              "IPY_MODEL_a5cbdf1469dd4c059e9eecedd7bbf894"
            ],
            "layout": "IPY_MODEL_c248e83477404329af6e571e0eb0b6f2"
          }
        },
        "ec024b8c61d24230b757397428a0f6fc": {
          "model_module": "@jupyter-widgets/controls",
          "model_name": "HTMLModel",
          "model_module_version": "1.5.0",
          "state": {
            "_dom_classes": [],
            "_model_module": "@jupyter-widgets/controls",
            "_model_module_version": "1.5.0",
            "_model_name": "HTMLModel",
            "_view_count": null,
            "_view_module": "@jupyter-widgets/controls",
            "_view_module_version": "1.5.0",
            "_view_name": "HTMLView",
            "description": "",
            "description_tooltip": null,
            "layout": "IPY_MODEL_5d7ca2b2a3f547d9b3dfebd63177163a",
            "placeholder": "​",
            "style": "IPY_MODEL_b74d2da98cd54f6c982eb3fd7d067597",
            "value": "100%"
          }
        },
        "83150c1ede7b4c64bba22bf575bc91d1": {
          "model_module": "@jupyter-widgets/controls",
          "model_name": "FloatProgressModel",
          "model_module_version": "1.5.0",
          "state": {
            "_dom_classes": [],
            "_model_module": "@jupyter-widgets/controls",
            "_model_module_version": "1.5.0",
            "_model_name": "FloatProgressModel",
            "_view_count": null,
            "_view_module": "@jupyter-widgets/controls",
            "_view_module_version": "1.5.0",
            "_view_name": "ProgressView",
            "bar_style": "success",
            "description": "",
            "description_tooltip": null,
            "layout": "IPY_MODEL_de6063178ac441eea746514c9ccff9ba",
            "max": 10,
            "min": 0,
            "orientation": "horizontal",
            "style": "IPY_MODEL_3414d3db56854e7dbf2db12f2184fffc",
            "value": 10
          }
        },
        "a5cbdf1469dd4c059e9eecedd7bbf894": {
          "model_module": "@jupyter-widgets/controls",
          "model_name": "HTMLModel",
          "model_module_version": "1.5.0",
          "state": {
            "_dom_classes": [],
            "_model_module": "@jupyter-widgets/controls",
            "_model_module_version": "1.5.0",
            "_model_name": "HTMLModel",
            "_view_count": null,
            "_view_module": "@jupyter-widgets/controls",
            "_view_module_version": "1.5.0",
            "_view_name": "HTMLView",
            "description": "",
            "description_tooltip": null,
            "layout": "IPY_MODEL_52070344905e43fe90324a6522576b20",
            "placeholder": "​",
            "style": "IPY_MODEL_4ecd47dde67d407cac4abba5496e3f69",
            "value": " 10/10 [11:58&lt;00:00, 70.19s/it]"
          }
        },
        "c248e83477404329af6e571e0eb0b6f2": {
          "model_module": "@jupyter-widgets/base",
          "model_name": "LayoutModel",
          "model_module_version": "1.2.0",
          "state": {
            "_model_module": "@jupyter-widgets/base",
            "_model_module_version": "1.2.0",
            "_model_name": "LayoutModel",
            "_view_count": null,
            "_view_module": "@jupyter-widgets/base",
            "_view_module_version": "1.2.0",
            "_view_name": "LayoutView",
            "align_content": null,
            "align_items": null,
            "align_self": null,
            "border": null,
            "bottom": null,
            "display": null,
            "flex": null,
            "flex_flow": null,
            "grid_area": null,
            "grid_auto_columns": null,
            "grid_auto_flow": null,
            "grid_auto_rows": null,
            "grid_column": null,
            "grid_gap": null,
            "grid_row": null,
            "grid_template_areas": null,
            "grid_template_columns": null,
            "grid_template_rows": null,
            "height": null,
            "justify_content": null,
            "justify_items": null,
            "left": null,
            "margin": null,
            "max_height": null,
            "max_width": null,
            "min_height": null,
            "min_width": null,
            "object_fit": null,
            "object_position": null,
            "order": null,
            "overflow": null,
            "overflow_x": null,
            "overflow_y": null,
            "padding": null,
            "right": null,
            "top": null,
            "visibility": null,
            "width": null
          }
        },
        "5d7ca2b2a3f547d9b3dfebd63177163a": {
          "model_module": "@jupyter-widgets/base",
          "model_name": "LayoutModel",
          "model_module_version": "1.2.0",
          "state": {
            "_model_module": "@jupyter-widgets/base",
            "_model_module_version": "1.2.0",
            "_model_name": "LayoutModel",
            "_view_count": null,
            "_view_module": "@jupyter-widgets/base",
            "_view_module_version": "1.2.0",
            "_view_name": "LayoutView",
            "align_content": null,
            "align_items": null,
            "align_self": null,
            "border": null,
            "bottom": null,
            "display": null,
            "flex": null,
            "flex_flow": null,
            "grid_area": null,
            "grid_auto_columns": null,
            "grid_auto_flow": null,
            "grid_auto_rows": null,
            "grid_column": null,
            "grid_gap": null,
            "grid_row": null,
            "grid_template_areas": null,
            "grid_template_columns": null,
            "grid_template_rows": null,
            "height": null,
            "justify_content": null,
            "justify_items": null,
            "left": null,
            "margin": null,
            "max_height": null,
            "max_width": null,
            "min_height": null,
            "min_width": null,
            "object_fit": null,
            "object_position": null,
            "order": null,
            "overflow": null,
            "overflow_x": null,
            "overflow_y": null,
            "padding": null,
            "right": null,
            "top": null,
            "visibility": null,
            "width": null
          }
        },
        "b74d2da98cd54f6c982eb3fd7d067597": {
          "model_module": "@jupyter-widgets/controls",
          "model_name": "DescriptionStyleModel",
          "model_module_version": "1.5.0",
          "state": {
            "_model_module": "@jupyter-widgets/controls",
            "_model_module_version": "1.5.0",
            "_model_name": "DescriptionStyleModel",
            "_view_count": null,
            "_view_module": "@jupyter-widgets/base",
            "_view_module_version": "1.2.0",
            "_view_name": "StyleView",
            "description_width": ""
          }
        },
        "de6063178ac441eea746514c9ccff9ba": {
          "model_module": "@jupyter-widgets/base",
          "model_name": "LayoutModel",
          "model_module_version": "1.2.0",
          "state": {
            "_model_module": "@jupyter-widgets/base",
            "_model_module_version": "1.2.0",
            "_model_name": "LayoutModel",
            "_view_count": null,
            "_view_module": "@jupyter-widgets/base",
            "_view_module_version": "1.2.0",
            "_view_name": "LayoutView",
            "align_content": null,
            "align_items": null,
            "align_self": null,
            "border": null,
            "bottom": null,
            "display": null,
            "flex": null,
            "flex_flow": null,
            "grid_area": null,
            "grid_auto_columns": null,
            "grid_auto_flow": null,
            "grid_auto_rows": null,
            "grid_column": null,
            "grid_gap": null,
            "grid_row": null,
            "grid_template_areas": null,
            "grid_template_columns": null,
            "grid_template_rows": null,
            "height": null,
            "justify_content": null,
            "justify_items": null,
            "left": null,
            "margin": null,
            "max_height": null,
            "max_width": null,
            "min_height": null,
            "min_width": null,
            "object_fit": null,
            "object_position": null,
            "order": null,
            "overflow": null,
            "overflow_x": null,
            "overflow_y": null,
            "padding": null,
            "right": null,
            "top": null,
            "visibility": null,
            "width": null
          }
        },
        "3414d3db56854e7dbf2db12f2184fffc": {
          "model_module": "@jupyter-widgets/controls",
          "model_name": "ProgressStyleModel",
          "model_module_version": "1.5.0",
          "state": {
            "_model_module": "@jupyter-widgets/controls",
            "_model_module_version": "1.5.0",
            "_model_name": "ProgressStyleModel",
            "_view_count": null,
            "_view_module": "@jupyter-widgets/base",
            "_view_module_version": "1.2.0",
            "_view_name": "StyleView",
            "bar_color": null,
            "description_width": ""
          }
        },
        "52070344905e43fe90324a6522576b20": {
          "model_module": "@jupyter-widgets/base",
          "model_name": "LayoutModel",
          "model_module_version": "1.2.0",
          "state": {
            "_model_module": "@jupyter-widgets/base",
            "_model_module_version": "1.2.0",
            "_model_name": "LayoutModel",
            "_view_count": null,
            "_view_module": "@jupyter-widgets/base",
            "_view_module_version": "1.2.0",
            "_view_name": "LayoutView",
            "align_content": null,
            "align_items": null,
            "align_self": null,
            "border": null,
            "bottom": null,
            "display": null,
            "flex": null,
            "flex_flow": null,
            "grid_area": null,
            "grid_auto_columns": null,
            "grid_auto_flow": null,
            "grid_auto_rows": null,
            "grid_column": null,
            "grid_gap": null,
            "grid_row": null,
            "grid_template_areas": null,
            "grid_template_columns": null,
            "grid_template_rows": null,
            "height": null,
            "justify_content": null,
            "justify_items": null,
            "left": null,
            "margin": null,
            "max_height": null,
            "max_width": null,
            "min_height": null,
            "min_width": null,
            "object_fit": null,
            "object_position": null,
            "order": null,
            "overflow": null,
            "overflow_x": null,
            "overflow_y": null,
            "padding": null,
            "right": null,
            "top": null,
            "visibility": null,
            "width": null
          }
        },
        "4ecd47dde67d407cac4abba5496e3f69": {
          "model_module": "@jupyter-widgets/controls",
          "model_name": "DescriptionStyleModel",
          "model_module_version": "1.5.0",
          "state": {
            "_model_module": "@jupyter-widgets/controls",
            "_model_module_version": "1.5.0",
            "_model_name": "DescriptionStyleModel",
            "_view_count": null,
            "_view_module": "@jupyter-widgets/base",
            "_view_module_version": "1.2.0",
            "_view_name": "StyleView",
            "description_width": ""
          }
        }
      }
    }
  },
  "nbformat": 4,
  "nbformat_minor": 0
}
